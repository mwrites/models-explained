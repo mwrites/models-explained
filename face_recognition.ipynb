{
 "cells": [
  {
   "cell_type": "markdown",
   "metadata": {},
   "source": [
    "# Goals\n",
    "- Differentiate between face recognition and verification\n",
    "- Implement one-shot learning to solve a face recognition problem\n",
    "- Apply the triplet loss function to learn a network's param in the context of face recognition\n",
    "- Explain how to pose face recognition as a binary classification problem\n",
    "- Map face images into 128-dimensional embeddings using a pretrained model\n",
    "- Perform face verification and recognition with these encodings"
   ]
  },
  {
   "cell_type": "markdown",
   "metadata": {},
   "source": [
    "# Face Verification"
   ]
  },
  {
   "cell_type": "markdown",
   "metadata": {},
   "source": [
    "1:1 problem"
   ]
  },
  {
   "cell_type": "markdown",
   "metadata": {},
   "source": [
    "### Siamese Network"
   ]
  },
  {
   "cell_type": "markdown",
   "metadata": {},
   "source": [
    "What's the difference between face verification and face recognition\n",
    "\n",
    "In face verification, given two images, why not just compare pixels by pixels?\n",
    "\n",
    "Explain how a siamese network work\n",
    "- what's the loss func\n",
    "- what's the forward pass\n",
    "- what's the arch"
   ]
  },
  {
   "cell_type": "code",
   "execution_count": null,
   "metadata": {},
   "outputs": [],
   "source": [
    "import torch\n",
    "import torch.nn as nn\n",
    "\n",
    "class SiameseNetwork(nn.Module):\n",
    "    def __init__(self):\n",
    "        super(SiameseNetwork, self).__init__()\n",
    "        self.convs = nn.Sequential(\n",
    "            nn.Conv2d(...),\n",
    "            nn.ReLU(inplace=True),\n",
    "            nn.MaxPool2d(2),\n",
    "        )\n",
    "        self.fc = nn.Sequential(\n",
    "            nn.Linear(...),\n",
    "            nn.Sigmoid(),\n",
    "        )\n",
    "\n",
    "    def forward_one(self, x):\n",
    "        x = self.conv(x)\n",
    "        x = x.view(x.size()[0], -1)\n",
    "        return self.fc(x)\n",
    "    \n",
    "    def forward(self, x1, x2):\n",
    "        return self.forward_one(x1), self.forward_one(x2)"
   ]
  },
  {
   "cell_type": "markdown",
   "metadata": {},
   "source": [
    "> We can have different versions of the SiameseNetwork, where the output is either a binary classification or a pair or embeddings"
   ]
  },
  {
   "cell_type": "markdown",
   "metadata": {},
   "source": [
    "### Triplet Loss"
   ]
  },
  {
   "cell_type": "markdown",
   "metadata": {},
   "source": [
    "Explain how do triplet loss help us in our task, what does it do and how does it help us in our task?"
   ]
  },
  {
   "cell_type": "code",
   "execution_count": 1,
   "metadata": {},
   "outputs": [],
   "source": [
    "import torch\n",
    "\n",
    "def triplet_loss(y_pred, margin=0.2):\n",
    "    # Ensure y_pred has the correct shape\n",
    "    assert y_pred.dim() == 3 and y_pred.shape[1] == 3, \"y_pred should have shape (batch_size, 3, embedding_dim)\"\n",
    "    \n",
    "    anchor, pos, neg = y_pred[:, 0], y_pred[:, 1], y_pred[:, 2]\n",
    "    \n",
    "    # Compute the (encoding) distances\n",
    "    pos_dist = torch.sum(torch.pow(anchor - pos, 2), dim=-1)\n",
    "    neg_dist = torch.sum(torch.pow(anchor - neg, 2), dim=-1)\n",
    "    \n",
    "    # Compute the triplet loss\n",
    "    basic_loss = pos_dist - neg_dist + margin\n",
    "    \n",
    "    # Apply hinge loss and take the mean\n",
    "    return torch.clamp(basic_loss, min=0.0).mean()"
   ]
  },
  {
   "cell_type": "markdown",
   "metadata": {},
   "source": [
    "### Embedding Images\n",
    "\n",
    "Here we need to load image and run the forward pass of the model on the image to get the embedding of a given image"
   ]
  },
  {
   "cell_type": "markdown",
   "metadata": {},
   "source": [
    "### Verify"
   ]
  },
  {
   "cell_type": "code",
   "execution_count": 3,
   "metadata": {},
   "outputs": [],
   "source": [
    "import torch\n",
    "\n",
    "def img_to_embedding(img_path, model):\n",
    "    pass\n",
    "\n",
    "def verify_identity_against_db(image_path, identity, database, model, margin):\n",
    "    embedding = img_to_embedding(image_path, model)\n",
    "    dist = torch.linalg.vector_norm(embedding - database[identity], p=2)\n",
    "\n",
    "    if dist < margin:\n",
    "        print(\"It's \" + str(identity) + \", welcome in!\")\n",
    "        door_open = True\n",
    "    else:\n",
    "        print(\"It's not \" + str(identity) + \", please go away\")\n",
    "        door_open = False       \n",
    "    return dist, door_open\n"
   ]
  },
  {
   "cell_type": "markdown",
   "metadata": {},
   "source": [
    "# Face Recognition"
   ]
  },
  {
   "cell_type": "code",
   "execution_count": null,
   "metadata": {},
   "outputs": [],
   "source": [
    "import torch\n",
    "\n",
    "def img_to_embedding(img_path, model):\n",
    "    pass\n",
    "\n",
    "def find_identity_from_db(image_path, identity, database, model, margin):\n",
    "    embed = img_to_embedding(image_path, model)\n",
    "    \n",
    "    min_dist = float('inf')\n",
    "    for (db_name, db_embed) in database.items():\n",
    "        # depending on the forward pass of ur model\n",
    "        dist = torch.linalg.vector_norm(embed - db_embed, p=2)\n",
    "        if dist < min_dist:\n",
    "            min_dist = dist\n",
    "            identity = db_name\n",
    "\n",
    "    if min_dist > margin:\n",
    "        print(\"Not in the database.\")\n",
    "    else:\n",
    "        print (\"it's \" + str(identity) + \", the distance is \" + str(min_dist))\n",
    "    return min_dist, identity\n"
   ]
  },
  {
   "cell_type": "markdown",
   "metadata": {},
   "source": [
    "1:K problem"
   ]
  },
  {
   "cell_type": "markdown",
   "metadata": {},
   "source": [
    "### Papers\n",
    "- [FaceNet](https://arxiv.org/pdf/1503.03832)\n",
    "- [DeepNet](https://scontent-cdg4-2.xx.fbcdn.net/v/t39.8562-6/240890413_887772915161178_4705912772854439762_n.pdf?_nc_cat=109&ccb=1-7&_nc_sid=e280be&_nc_ohc=E5zgFzveiqoQ7kNvgEAT5z0&_nc_ht=scontent-cdg4-2.xx&oh=00_AYD2KkfdtwA8HHWJxlYahOKXHTWdCLPuEhk7DbZgA4a_1A&oe=66BBE9FF)"
   ]
  }
 ],
 "metadata": {
  "kernelspec": {
   "display_name": "base",
   "language": "python",
   "name": "python3"
  },
  "language_info": {
   "codemirror_mode": {
    "name": "ipython",
    "version": 3
   },
   "file_extension": ".py",
   "mimetype": "text/x-python",
   "name": "python",
   "nbconvert_exporter": "python",
   "pygments_lexer": "ipython3",
   "version": "3.12.2"
  }
 },
 "nbformat": 4,
 "nbformat_minor": 2
}
