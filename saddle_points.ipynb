{
 "cells": [
  {
   "cell_type": "markdown",
   "metadata": {},
   "source": [
    "# Weight Decay And Saddle Points"
   ]
  },
  {
   "cell_type": "markdown",
   "metadata": {},
   "source": [
    "### Weight Decay"
   ]
  },
  {
   "cell_type": "markdown",
   "metadata": {},
   "source": [
    "One of the things that could help your learning algorithm is to reduce the learning rate, that's what we call weight decay."
   ]
  },
  {
   "cell_type": "markdown",
   "metadata": {},
   "source": [
    "What's the intuition behind why a slow learning rate is better at the end? Image your model weights as 2 points on a surface. At the beginning we are very far from our target direction, so it's easy to roughly tweak the weights to point toward north or south. But as trianing goes, the landscape becomes more complicated, more intricate, like a canyon, we can't just go north or south. We need to find the right veins, we need to take careful steps."
   ]
  },
  {
   "cell_type": "markdown",
   "metadata": {},
   "source": [
    "So the idea is to decrease the learning rate over the optimizer steps. One way to do that is to exponentially reduce the learning rate."
   ]
  },
  {
   "attachments": {
    "image.png": {
     "image/png": "[encoded data removed]"
    }
   },
   "cell_type": "markdown",
   "metadata": {},
   "source": [
    "![image.png](attachment:image.png)"
   ]
  },
  {
   "cell_type": "code",
   "execution_count": null,
   "metadata": {},
   "outputs": [],
   "source": [
    "def update_lr(learning_rate0, epoch_num, decay_rate):\n",
    "    \"\"\"\n",
    "    Calculates updated the learning rate using exponential weight decay.\n",
    "    \n",
    "    Arguments:\n",
    "    learning_rate0 -- Original learning rate. Scalar\n",
    "    epoch_num -- Epoch number. Integer\n",
    "    decay_rate -- Decay rate. Scalar\n",
    "\n",
    "    Returns:\n",
    "    learning_rate -- Updated learning rate. Scalar \n",
    "    \"\"\"\n",
    "\n",
    "    # same as lr0^decay_rate*epoch_num\n",
    "    lr = learning_rate0 / (1 + decay_rate * epoch_num)\n",
    "    return lr"
   ]
  },
  {
   "cell_type": "markdown",
   "metadata": {},
   "source": [
    "### Scheduling"
   ]
  },
  {
   "cell_type": "markdown",
   "metadata": {},
   "source": [
    " If you set the decay to occur at every epoch, the learning rate goes to zero too quickly - even if you start with a higher learning rate. This can be fixed with fixed interval scheduling."
   ]
  },
  {
   "cell_type": "code",
   "execution_count": null,
   "metadata": {},
   "outputs": [],
   "source": [
    "def schedule_lr_decay(learning_rate0, epoch_num, decay_rate, time_interval=1000):\n",
    "    \"\"\"\n",
    "    Calculates updated the learning rate using exponential weight decay.\n",
    "    \n",
    "    Arguments:\n",
    "    learning_rate0 -- Original learning rate. Scalar\n",
    "    epoch_num -- Epoch number. Integer.\n",
    "    decay_rate -- Decay rate. Scalar.\n",
    "    time_interval -- Number of epochs where you update the learning rate.\n",
    "\n",
    "    Returns:\n",
    "    learning_rate -- Updated learning rate. Scalar \n",
    "    \"\"\"\n",
    "    learning_rate = learning_rate0 / (1 + decay_rate * (np.floor(epoch_num/time_interval)))\n",
    "    return learning_rate"
   ]
  },
  {
   "cell_type": "markdown",
   "metadata": {},
   "source": [
    "### The Truth About Local Optimums"
   ]
  },
  {
   "cell_type": "markdown",
   "metadata": {},
   "source": [
    "Often when we think about a model not converging, the most common analogy is that the optimizer is trapped into a hole; what we call local optimums.\n",
    "\n",
    "Thing is in a high dimensional space, these traps don't really look like holes, they look more like saddle points. Think about when would an optimizer be stuck: it would mean that the gradient is zero or very small, meaning that the optimizer doesn't know which direction; the area is ambiguous. These are saddle points.\n",
    "\n",
    "If the gradient is zero, the function is either convex light or concave light. So, the optimizer are stuck in plateaus actually, not in holes!\n",
    "\n",
    "As Andrew Ng said, because we are dealing with such high dimensional spaces, it's still hard for people to grasp what these dimensions really look like, even if dimensional reduction techniques."
   ]
  },
  {
   "cell_type": "markdown",
   "metadata": {},
   "source": []
  }
 ],
 "metadata": {
  "language_info": {
   "name": "python"
  }
 },
 "nbformat": 4,
 "nbformat_minor": 2
}
