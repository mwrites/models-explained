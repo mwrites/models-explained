{
 "cells": [
  {
   "cell_type": "code",
   "execution_count": null,
   "metadata": {},
   "outputs": [],
   "source": [
    "x.to_parquet('mush_nlp_x.parquet', index=False)\n",
    "y_df = train_y.to_frame(name='labels')\n",
    "y_df.to_parquet('mush_nlp_y_serie.parquet', index=True)\n",
    "\n",
    "x = pd.read_parquet('mush_nlp_x.parquet')\n",
    "y_df = pd.read_parquet('mush_nlp_y_serie.parquet')\n",
    "y = y_df['labels']\n",
    "y.index.name = train_y.index.name"
   ]
  },
  {
   "cell_type": "code",
   "execution_count": null,
   "metadata": {},
   "outputs": [],
   "source": [
    "from datasets import Dataset, load_from_disk\n",
    "\n",
    "split_ds.save_to_disk(output_path)\n",
    "split_ds = load_from_disk(split_ds_path)\n",
    "split_ds"
   ]
  },
  {
   "cell_type": "code",
   "execution_count": null,
   "metadata": {},
   "outputs": [],
   "source": [
    "from pandas.api.types import is_string_dtype\n",
    "\n",
    "def check_string_type(df, col):\n",
    "    assert is_string_dtype(df[col]), f\"Column '{col}' is not of string type\""
   ]
  },
  {
   "cell_type": "markdown",
   "metadata": {},
   "source": []
  }
 ],
 "metadata": {
  "language_info": {
   "name": "python"
  }
 },
 "nbformat": 4,
 "nbformat_minor": 2
}
